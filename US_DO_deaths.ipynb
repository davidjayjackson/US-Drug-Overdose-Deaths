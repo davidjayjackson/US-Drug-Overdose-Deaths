{
  "nbformat": 4,
  "nbformat_minor": 0,
  "metadata": {
    "colab": {
      "provenance": []
    },
    "kernelspec": {
      "name": "python3",
      "display_name": "Python 3"
    },
    "language_info": {
      "name": "python"
    }
  },
  "cells": [
    {
      "cell_type": "code",
      "execution_count": null,
      "metadata": {
        "id": "_VSy0pXsw8x3"
      },
      "outputs": [],
      "source": [
        "import pandas as pd\n",
        "import numpy as np\n",
        "# import matplotlib as mat\n",
        "import matplotlib.pyplot as plt\n",
        "import seaborn as sns\n",
        "import math"
      ]
    },
    {
      "cell_type": "code",
      "source": [],
      "metadata": {
        "id": "NeC2nIpjyJAN"
      },
      "execution_count": null,
      "outputs": []
    },
    {
      "cell_type": "markdown",
      "source": [
        "## Data Wrangling"
      ],
      "metadata": {
        "id": "ncQNX0S7Ns8F"
      }
    },
    {
      "cell_type": "code",
      "source": [
        "# define a function to clean up the column names\n",
        "def clean_column_name(name):\n",
        "    # convert to lower case\n",
        "    name = name.lower()\n",
        "    # replace spaces with underscores\n",
        "    name = name.replace(\" \", \"_\")\n",
        "    # remove non-alphanumeric characters\n",
        "    name = ''.join(e for e in name if e.isalnum() or e == '_')\n",
        "    # check for duplicates\n",
        "    for i in range(1, len(name)):\n",
        "        if name[:i] == name[i:]:\n",
        "            name = name[:i]\n",
        "            break\n",
        "    # remove \"_2017\" from the end of the name\n",
        "    # name = name.replace(\"_2017\", \"\")\n",
        "    name = name.replace(\"_2017\", \"\").replace(\"_cdc_wonder\", \"\").replace(\"_us\",\"\")\n",
        "    # return the cleaned name\n",
        "    return name\n",
        "## ------------- End of function ---------------##\n"
      ],
      "metadata": {
        "id": "yYQDwYibyrmL"
      },
      "execution_count": null,
      "outputs": []
    },
    {
      "cell_type": "code",
      "source": [
        "overdose_deaths = pd.read_csv(\"https://raw.githubusercontent.com/owid/owid-datasets/master/datasets/Drug%20overdose%20deaths%20in%20the%20US%20(CDC%20WONDER)/Drug%20overdose%20deaths%20in%20the%20US%20(CDC%20WONDER).csv\")\n",
        "overdose_deaths['Year'] = overdose_deaths['Year'].astype('int')\n",
        "overdose_deaths.drop('Entity', axis=1, inplace=True)"
      ],
      "metadata": {
        "id": "l8YRpTyax_Q9"
      },
      "execution_count": null,
      "outputs": []
    },
    {
      "cell_type": "code",
      "source": [],
      "metadata": {
        "id": "1uCQoe7vNxGS"
      },
      "execution_count": null,
      "outputs": []
    },
    {
      "cell_type": "code",
      "source": [
        "# loop through the column names and clean them up\n",
        "new_columns = {}\n",
        "for col in overdose_deaths.columns:\n",
        "    new_col = clean_column_name(col)\n",
        "    new_columns[col] = new_col\n",
        "\n",
        "# rename the columns\n",
        "overdose_deaths.rename(columns=new_columns, inplace=True)"
      ],
      "metadata": {
        "id": "qHWDjC0-y219"
      },
      "execution_count": null,
      "outputs": []
    },
    {
      "cell_type": "code",
      "source": [
        "# Rename the dataframe from data to overdose_deaths\n",
        "# overdose_deaths = overdose_deaths.rename_axis('year').reset_index()"
      ],
      "metadata": {
        "id": "Jp1nNeqtRitc"
      },
      "execution_count": null,
      "outputs": []
    },
    {
      "cell_type": "code",
      "source": [
        "overdose_deaths.columns"
      ],
      "metadata": {
        "colab": {
          "base_uri": "https://localhost:8080/"
        },
        "id": "X7Sh91V3zH3T",
        "outputId": "3e233543-cdb5-46e7-dcd9-6354ac668bb8"
      },
      "execution_count": null,
      "outputs": [
        {
          "output_type": "execute_result",
          "data": {
            "text/plain": [
              "Index(['year', 'total_overdose_deaths', 'opioid_pain_relievers',\n",
              "       'benzodiazepines', 'cocaine', 'heroin', 'any_opioids',\n",
              "       'synthetic_opioids_other_than_methadone',\n",
              "       'psychostimulants_death_rates', 'antidepressants_death_rates'],\n",
              "      dtype='object')"
            ]
          },
          "metadata": {},
          "execution_count": 91
        }
      ]
    },
    {
      "cell_type": "code",
      "source": [
        "# check for missing values in each column\n",
        "print(overdose_deaths.isna().any())\n"
      ],
      "metadata": {
        "id": "cEzDYO-sQVle"
      },
      "execution_count": null,
      "outputs": []
    },
    {
      "cell_type": "markdown",
      "source": [
        "## Begin Exploratory Data Analysis"
      ],
      "metadata": {
        "id": "1sc9FEd9Nhcn"
      }
    },
    {
      "cell_type": "code",
      "source": [
        "overdose_deaths.describe()"
      ],
      "metadata": {
        "id": "u69Jl7QxLeoI",
        "colab": {
          "base_uri": "https://localhost:8080/",
          "height": 364
        },
        "outputId": "8cf2cc9c-ddd2-4aa9-a2e4-bfc881ee0ea7"
      },
      "execution_count": null,
      "outputs": [
        {
          "output_type": "execute_result",
          "data": {
            "text/plain": [
              "              year  total_overdose_deaths  opioid_pain_relievers  \\\n",
              "count    22.000000              22.000000              22.000000   \n",
              "mean   2009.500000              13.563636               3.809091   \n",
              "std       6.493587               5.759592               1.256567   \n",
              "min    1999.000000               6.100000               1.200000   \n",
              "25%    2004.250000               9.575000               2.975000   \n",
              "50%    2009.500000              12.100000               4.350000   \n",
              "75%    2014.750000              15.900000               4.675000   \n",
              "max    2020.000000              28.300000               5.200000   \n",
              "\n",
              "       benzodiazepines    cocaine     heroin  any_opioids  \\\n",
              "count        22.000000  22.000000  22.000000    22.000000   \n",
              "mean          1.904545   2.350000   2.081818     8.231818   \n",
              "std           1.054007   1.351454   1.685692     4.856747   \n",
              "min           0.400000   1.300000   0.600000     2.900000   \n",
              "25%           0.950000   1.425000   0.700000     4.800000   \n",
              "50%           1.950000   1.750000   1.050000     6.700000   \n",
              "75%           2.650000   2.425000   3.925000    10.050000   \n",
              "max           3.700000   6.000000   4.900000    21.400000   \n",
              "\n",
              "       synthetic_opioids_other_than_methadone  psychostimulants_death_rates  \\\n",
              "count                               22.000000                     22.000000   \n",
              "mean                                 3.145455                      1.477273   \n",
              "std                                  4.716004                      1.879446   \n",
              "min                                  0.300000                      0.200000   \n",
              "25%                                  0.600000                      0.400000   \n",
              "50%                                  0.850000                      0.550000   \n",
              "75%                                  2.775000                      1.700000   \n",
              "max                                 17.800000                      7.500000   \n",
              "\n",
              "       antidepressants_death_rates  \n",
              "count                    22.000000  \n",
              "mean                      1.168182  \n",
              "std                       0.331499  \n",
              "min                       0.600000  \n",
              "25%                       0.900000  \n",
              "50%                       1.200000  \n",
              "75%                       1.475000  \n",
              "max                       1.700000  "
            ],
            "text/html": [
              "\n",
              "  <div id=\"df-c4e1ddda-948a-4a8d-a316-faad796cec46\">\n",
              "    <div class=\"colab-df-container\">\n",
              "      <div>\n",
              "<style scoped>\n",
              "    .dataframe tbody tr th:only-of-type {\n",
              "        vertical-align: middle;\n",
              "    }\n",
              "\n",
              "    .dataframe tbody tr th {\n",
              "        vertical-align: top;\n",
              "    }\n",
              "\n",
              "    .dataframe thead th {\n",
              "        text-align: right;\n",
              "    }\n",
              "</style>\n",
              "<table border=\"1\" class=\"dataframe\">\n",
              "  <thead>\n",
              "    <tr style=\"text-align: right;\">\n",
              "      <th></th>\n",
              "      <th>year</th>\n",
              "      <th>total_overdose_deaths</th>\n",
              "      <th>opioid_pain_relievers</th>\n",
              "      <th>benzodiazepines</th>\n",
              "      <th>cocaine</th>\n",
              "      <th>heroin</th>\n",
              "      <th>any_opioids</th>\n",
              "      <th>synthetic_opioids_other_than_methadone</th>\n",
              "      <th>psychostimulants_death_rates</th>\n",
              "      <th>antidepressants_death_rates</th>\n",
              "    </tr>\n",
              "  </thead>\n",
              "  <tbody>\n",
              "    <tr>\n",
              "      <th>count</th>\n",
              "      <td>22.000000</td>\n",
              "      <td>22.000000</td>\n",
              "      <td>22.000000</td>\n",
              "      <td>22.000000</td>\n",
              "      <td>22.000000</td>\n",
              "      <td>22.000000</td>\n",
              "      <td>22.000000</td>\n",
              "      <td>22.000000</td>\n",
              "      <td>22.000000</td>\n",
              "      <td>22.000000</td>\n",
              "    </tr>\n",
              "    <tr>\n",
              "      <th>mean</th>\n",
              "      <td>2009.500000</td>\n",
              "      <td>13.563636</td>\n",
              "      <td>3.809091</td>\n",
              "      <td>1.904545</td>\n",
              "      <td>2.350000</td>\n",
              "      <td>2.081818</td>\n",
              "      <td>8.231818</td>\n",
              "      <td>3.145455</td>\n",
              "      <td>1.477273</td>\n",
              "      <td>1.168182</td>\n",
              "    </tr>\n",
              "    <tr>\n",
              "      <th>std</th>\n",
              "      <td>6.493587</td>\n",
              "      <td>5.759592</td>\n",
              "      <td>1.256567</td>\n",
              "      <td>1.054007</td>\n",
              "      <td>1.351454</td>\n",
              "      <td>1.685692</td>\n",
              "      <td>4.856747</td>\n",
              "      <td>4.716004</td>\n",
              "      <td>1.879446</td>\n",
              "      <td>0.331499</td>\n",
              "    </tr>\n",
              "    <tr>\n",
              "      <th>min</th>\n",
              "      <td>1999.000000</td>\n",
              "      <td>6.100000</td>\n",
              "      <td>1.200000</td>\n",
              "      <td>0.400000</td>\n",
              "      <td>1.300000</td>\n",
              "      <td>0.600000</td>\n",
              "      <td>2.900000</td>\n",
              "      <td>0.300000</td>\n",
              "      <td>0.200000</td>\n",
              "      <td>0.600000</td>\n",
              "    </tr>\n",
              "    <tr>\n",
              "      <th>25%</th>\n",
              "      <td>2004.250000</td>\n",
              "      <td>9.575000</td>\n",
              "      <td>2.975000</td>\n",
              "      <td>0.950000</td>\n",
              "      <td>1.425000</td>\n",
              "      <td>0.700000</td>\n",
              "      <td>4.800000</td>\n",
              "      <td>0.600000</td>\n",
              "      <td>0.400000</td>\n",
              "      <td>0.900000</td>\n",
              "    </tr>\n",
              "    <tr>\n",
              "      <th>50%</th>\n",
              "      <td>2009.500000</td>\n",
              "      <td>12.100000</td>\n",
              "      <td>4.350000</td>\n",
              "      <td>1.950000</td>\n",
              "      <td>1.750000</td>\n",
              "      <td>1.050000</td>\n",
              "      <td>6.700000</td>\n",
              "      <td>0.850000</td>\n",
              "      <td>0.550000</td>\n",
              "      <td>1.200000</td>\n",
              "    </tr>\n",
              "    <tr>\n",
              "      <th>75%</th>\n",
              "      <td>2014.750000</td>\n",
              "      <td>15.900000</td>\n",
              "      <td>4.675000</td>\n",
              "      <td>2.650000</td>\n",
              "      <td>2.425000</td>\n",
              "      <td>3.925000</td>\n",
              "      <td>10.050000</td>\n",
              "      <td>2.775000</td>\n",
              "      <td>1.700000</td>\n",
              "      <td>1.475000</td>\n",
              "    </tr>\n",
              "    <tr>\n",
              "      <th>max</th>\n",
              "      <td>2020.000000</td>\n",
              "      <td>28.300000</td>\n",
              "      <td>5.200000</td>\n",
              "      <td>3.700000</td>\n",
              "      <td>6.000000</td>\n",
              "      <td>4.900000</td>\n",
              "      <td>21.400000</td>\n",
              "      <td>17.800000</td>\n",
              "      <td>7.500000</td>\n",
              "      <td>1.700000</td>\n",
              "    </tr>\n",
              "  </tbody>\n",
              "</table>\n",
              "</div>\n",
              "      <button class=\"colab-df-convert\" onclick=\"convertToInteractive('df-c4e1ddda-948a-4a8d-a316-faad796cec46')\"\n",
              "              title=\"Convert this dataframe to an interactive table.\"\n",
              "              style=\"display:none;\">\n",
              "        \n",
              "  <svg xmlns=\"http://www.w3.org/2000/svg\" height=\"24px\"viewBox=\"0 0 24 24\"\n",
              "       width=\"24px\">\n",
              "    <path d=\"M0 0h24v24H0V0z\" fill=\"none\"/>\n",
              "    <path d=\"M18.56 5.44l.94 2.06.94-2.06 2.06-.94-2.06-.94-.94-2.06-.94 2.06-2.06.94zm-11 1L8.5 8.5l.94-2.06 2.06-.94-2.06-.94L8.5 2.5l-.94 2.06-2.06.94zm10 10l.94 2.06.94-2.06 2.06-.94-2.06-.94-.94-2.06-.94 2.06-2.06.94z\"/><path d=\"M17.41 7.96l-1.37-1.37c-.4-.4-.92-.59-1.43-.59-.52 0-1.04.2-1.43.59L10.3 9.45l-7.72 7.72c-.78.78-.78 2.05 0 2.83L4 21.41c.39.39.9.59 1.41.59.51 0 1.02-.2 1.41-.59l7.78-7.78 2.81-2.81c.8-.78.8-2.07 0-2.86zM5.41 20L4 18.59l7.72-7.72 1.47 1.35L5.41 20z\"/>\n",
              "  </svg>\n",
              "      </button>\n",
              "      \n",
              "  <style>\n",
              "    .colab-df-container {\n",
              "      display:flex;\n",
              "      flex-wrap:wrap;\n",
              "      gap: 12px;\n",
              "    }\n",
              "\n",
              "    .colab-df-convert {\n",
              "      background-color: #E8F0FE;\n",
              "      border: none;\n",
              "      border-radius: 50%;\n",
              "      cursor: pointer;\n",
              "      display: none;\n",
              "      fill: #1967D2;\n",
              "      height: 32px;\n",
              "      padding: 0 0 0 0;\n",
              "      width: 32px;\n",
              "    }\n",
              "\n",
              "    .colab-df-convert:hover {\n",
              "      background-color: #E2EBFA;\n",
              "      box-shadow: 0px 1px 2px rgba(60, 64, 67, 0.3), 0px 1px 3px 1px rgba(60, 64, 67, 0.15);\n",
              "      fill: #174EA6;\n",
              "    }\n",
              "\n",
              "    [theme=dark] .colab-df-convert {\n",
              "      background-color: #3B4455;\n",
              "      fill: #D2E3FC;\n",
              "    }\n",
              "\n",
              "    [theme=dark] .colab-df-convert:hover {\n",
              "      background-color: #434B5C;\n",
              "      box-shadow: 0px 1px 3px 1px rgba(0, 0, 0, 0.15);\n",
              "      filter: drop-shadow(0px 1px 2px rgba(0, 0, 0, 0.3));\n",
              "      fill: #FFFFFF;\n",
              "    }\n",
              "  </style>\n",
              "\n",
              "      <script>\n",
              "        const buttonEl =\n",
              "          document.querySelector('#df-c4e1ddda-948a-4a8d-a316-faad796cec46 button.colab-df-convert');\n",
              "        buttonEl.style.display =\n",
              "          google.colab.kernel.accessAllowed ? 'block' : 'none';\n",
              "\n",
              "        async function convertToInteractive(key) {\n",
              "          const element = document.querySelector('#df-c4e1ddda-948a-4a8d-a316-faad796cec46');\n",
              "          const dataTable =\n",
              "            await google.colab.kernel.invokeFunction('convertToInteractive',\n",
              "                                                     [key], {});\n",
              "          if (!dataTable) return;\n",
              "\n",
              "          const docLinkHtml = 'Like what you see? Visit the ' +\n",
              "            '<a target=\"_blank\" href=https://colab.research.google.com/notebooks/data_table.ipynb>data table notebook</a>'\n",
              "            + ' to learn more about interactive tables.';\n",
              "          element.innerHTML = '';\n",
              "          dataTable['output_type'] = 'display_data';\n",
              "          await google.colab.output.renderOutput(dataTable, element);\n",
              "          const docLink = document.createElement('div');\n",
              "          docLink.innerHTML = docLinkHtml;\n",
              "          element.appendChild(docLink);\n",
              "        }\n",
              "      </script>\n",
              "    </div>\n",
              "  </div>\n",
              "  "
            ]
          },
          "metadata": {},
          "execution_count": 93
        }
      ]
    },
    {
      "cell_type": "code",
      "source": [
        "# Calculate the percent of total for each column using Total Overdose Deaths\n",
        "percent_of_total = (overdose_deaths / overdose_deaths['total_overdose_deaths']) * 100"
      ],
      "metadata": {
        "id": "Srpm7nRrXXTP"
      },
      "execution_count": null,
      "outputs": []
    },
    {
      "cell_type": "markdown",
      "source": [
        "#### Calculate Quant"
      ],
      "metadata": {
        "id": "XlUsLxYtRW8F"
      }
    },
    {
      "cell_type": "code",
      "source": [
        "# Calculate the quartiles and IQR for each column\n",
        "quartiles = overdose_deaths.quantile([0.25, 0.5, 0.75])\n",
        "q1 = quartiles.loc[0.25]\n",
        "q2 = quartiles.loc[0.5]\n",
        "q3 = quartiles.loc[0.75]\n",
        "iqr = q3 - q1\n"
      ],
      "metadata": {
        "id": "R-zg58xqVTvF"
      },
      "execution_count": null,
      "outputs": []
    },
    {
      "cell_type": "code",
      "source": [
        "# Drop the 'year' column\n",
        "overdose_deaths_no_year = overdose_deaths.drop(columns=['year'])\n",
        "\n",
        "# Calculate quartiles for each column\n",
        "q1 = overdose_deaths_no_year.quantile(0.25)\n",
        "q2 = overdose_deaths_no_year.quantile(0.5)\n",
        "q3 = overdose_deaths_no_year.quantile(0.75)\n",
        "iqr = q3 - q1\n",
        "\n",
        "# Create a new dataframe with quartile information\n",
        "quartile_df = pd.DataFrame({\n",
        "    'q1': q1.values,\n",
        "    'q2': q2.values,\n",
        "    'q3': q3.values,\n",
        "    'iqr': iqr.values\n",
        "}, index=q1.index)\n",
        "print(quartile_df)\n"
      ],
      "metadata": {
        "colab": {
          "base_uri": "https://localhost:8080/"
        },
        "id": "CBTMErjGb6BM",
        "outputId": "fe5ba511-9cd1-41e9-e83f-eb3f0af3cc6b"
      },
      "execution_count": null,
      "outputs": [
        {
          "output_type": "stream",
          "name": "stdout",
          "text": [
            "                                           q1     q2      q3    iqr\n",
            "total_overdose_deaths                   9.575  12.10  15.900  6.325\n",
            "opioid_pain_relievers                   2.975   4.35   4.675  1.700\n",
            "benzodiazepines                         0.950   1.95   2.650  1.700\n",
            "cocaine                                 1.425   1.75   2.425  1.000\n",
            "heroin                                  0.700   1.05   3.925  3.225\n",
            "any_opioids                             4.800   6.70  10.050  5.250\n",
            "synthetic_opioids_other_than_methadone  0.600   0.85   2.775  2.175\n",
            "psychostimulants_death_rates            0.400   0.55   1.700  1.300\n",
            "antidepressants_death_rates             0.900   1.20   1.475  0.575\n"
          ]
        }
      ]
    },
    {
      "cell_type": "markdown",
      "source": [
        "#### Percent of Total Overdose Deaths"
      ],
      "metadata": {
        "id": "JsHTqNbmcfxC"
      }
    },
    {
      "cell_type": "code",
      "source": [
        "# Calculate percent of total deaths\n",
        "percent_of_total = overdose_deaths_no_year.apply(lambda x: x / x.sum() * 100, axis=1)\n",
        "\n",
        "# Round the percent values to two decimal places\n",
        "percent_of_total = percent_of_total.round(2)\n",
        "\n",
        "# Create a new dataframe with percent of total information\n",
        "percent_df = pd.DataFrame({\n",
        "    '% of Total': percent_of_total['total_overdose_deaths'].values,\n",
        "    '% Opioid Pain Relievers': percent_of_total['opioid_pain_relievers'].values,\n",
        "    '% Benzodiazepines': percent_of_total['benzodiazepines'].values,\n",
        "    '% Cocaine': percent_of_total['cocaine'].values,\n",
        "    '% Heroin': percent_of_total['heroin'].values,\n",
        "    '% Any Opioids': percent_of_total['any_opioids'].values,\n",
        "    '% Synthetic Opioids other than Methadone': percent_of_total['synthetic_opioids_other_than_methadone'].values,\n",
        "    '% Psychostimulants death rates': percent_of_total['psychostimulants_death_rates'].values,\n",
        "    '% Antidepressants death rates': percent_of_total['antidepressants_death_rates'].values\n",
        "})\n",
        "print(percent_df)"
      ],
      "metadata": {
        "id": "0WuCwAjzdxyA",
        "colab": {
          "base_uri": "https://localhost:8080/"
        },
        "outputId": "1b652a8a-09a2-4327-cbf1-3acb51568033"
      },
      "execution_count": null,
      "outputs": [
        {
          "output_type": "stream",
          "name": "stdout",
          "text": [
            "    % of Total  % Opioid Pain Relievers  % Benzodiazepines  % Cocaine  \\\n",
            "0        44.20                     8.70               2.90      10.14   \n",
            "1        43.97                     9.22               3.55       9.22   \n",
            "2        43.87                    10.97               3.87       8.39   \n",
            "3        42.93                    12.04               3.66       8.38   \n",
            "4        42.18                    12.32               3.79       8.53   \n",
            "5        42.15                    13.00               4.04       8.52   \n",
            "6        41.56                    13.17               4.53       8.64   \n",
            "7        40.78                    13.83               4.61       8.87   \n",
            "8        41.18                    14.53               5.19       7.61   \n",
            "9        40.75                    14.73               5.48       5.82   \n",
            "10       39.80                    14.72               6.02       4.68   \n",
            "11       39.68                    15.16               6.77       4.19   \n",
            "12       39.64                    14.71               6.61       4.50   \n",
            "13       39.34                    13.51               6.31       4.20   \n",
            "14       38.12                    12.15               6.08       4.42   \n",
            "15       36.21                    11.33               6.16       4.19   \n",
            "16       34.90                    10.06               5.78       4.50   \n",
            "17       33.17                     8.71               5.53       5.36   \n",
            "18       31.73                     7.60               5.26       6.29   \n",
            "19       30.62                     6.66               4.88       6.66   \n",
            "20       30.21                     5.87               4.20       6.85   \n",
            "21       29.66                     5.14               3.88       6.29   \n",
            "\n",
            "    % Heroin  % Any Opioids  % Synthetic Opioids other than Methadone  \\\n",
            "0       5.07          21.01                                      2.17   \n",
            "1       4.96          21.28                                      2.13   \n",
            "2       3.87          21.29                                      1.94   \n",
            "3       3.66          21.47                                      2.09   \n",
            "4       3.32          21.33                                      2.37   \n",
            "5       2.69          21.08                                      2.69   \n",
            "6       2.88          20.99                                      2.47   \n",
            "7       2.48          20.92                                      3.19   \n",
            "8       2.77          21.11                                      2.42   \n",
            "9       3.42          21.92                                      2.74   \n",
            "10      3.68          22.07                                      3.34   \n",
            "11      3.23          21.94                                      3.23   \n",
            "12      4.20          21.92                                      2.40   \n",
            "13      5.71          22.22                                      2.40   \n",
            "14      7.46          21.82                                      2.76   \n",
            "15      8.37          22.17                                      4.43   \n",
            "16      8.78          22.27                                      6.64   \n",
            "17      8.21          22.28                                     10.39   \n",
            "18      7.16          21.78                                     13.16   \n",
            "19      6.95          21.60                                     14.64   \n",
            "20      6.15          21.68                                     15.94   \n",
            "21      4.30          22.43                                     18.66   \n",
            "\n",
            "    % Psychostimulants death rates  % Antidepressants death rates  \n",
            "0                             1.45                           4.35  \n",
            "1                             1.42                           4.26  \n",
            "2                             1.29                           4.52  \n",
            "3                             1.57                           4.19  \n",
            "4                             1.90                           4.27  \n",
            "5                             1.79                           4.04  \n",
            "6                             2.06                           3.70  \n",
            "7                             1.77                           3.55  \n",
            "8                             1.38                           3.81  \n",
            "9                             1.37                           3.77  \n",
            "10                            1.67                           4.01  \n",
            "11                            1.94                           3.87  \n",
            "12                            2.10                           3.90  \n",
            "13                            2.40                           3.90  \n",
            "14                            3.31                           3.87  \n",
            "15                            3.45                           3.69  \n",
            "16                            3.85                           3.21  \n",
            "17                            4.02                           2.35  \n",
            "18                            4.68                           2.34  \n",
            "19                            5.77                           2.22  \n",
            "20                            6.99                           2.10  \n",
            "21                            7.86                           1.78  \n"
          ]
        }
      ]
    },
    {
      "cell_type": "markdown",
      "source": [
        "## Good Stuff: Data Visualizations"
      ],
      "metadata": {
        "id": "UQyEbNK3fMaz"
      }
    },
    {
      "cell_type": "code",
      "source": [
        "sns.histplot(data=overdose_deaths_no_year, x='any_opioids', kde=True)"
      ],
      "metadata": {
        "id": "hQ3RpSY_fbZk",
        "colab": {
          "base_uri": "https://localhost:8080/",
          "height": 297
        },
        "outputId": "b888ba29-ccd3-4c27-a5d0-472eb4364824"
      },
      "execution_count": null,
      "outputs": [
        {
          "output_type": "execute_result",
          "data": {
            "text/plain": [
              "<matplotlib.axes._subplots.AxesSubplot at 0x7f1a3427e370>"
            ]
          },
          "metadata": {},
          "execution_count": 100
        },
        {
          "output_type": "display_data",
          "data": {
            "text/plain": [
              "<Figure size 432x288 with 1 Axes>"
            ],
            "image/png": "[encoded data removed]"
          },
          "metadata": {
            "needs_background": "light"
          }
        }
      ]
    },
    {
      "cell_type": "code",
      "source": [
        "\n",
        "\n",
        "fig, axs = plt.subplots(1, len(overdose_deaths_no_year.columns), figsize=(20, 5))\n",
        "\n",
        "\n",
        "for i, col in enumerate(overdose_deaths_no_year.columns):\n",
        "    axs[i].hist(overdose_deaths_no_year[col], bins=10)\n",
        "    axs[i].set_title(col)\n",
        "    axs[i].set_xlabel('Number of Deaths')\n",
        "    axs[i].set_ylabel('Frequency')\n",
        "\n",
        "plt.show()\n"
      ],
      "metadata": {
        "id": "3v_qIlFdfniQ",
        "colab": {
          "base_uri": "https://localhost:8080/",
          "height": 350
        },
        "outputId": "4c3ac1ac-2272-44df-fdb6-08fb3bc84e44"
      },
      "execution_count": null,
      "outputs": [
        {
          "output_type": "display_data",
          "data": {
            "text/plain": [
              "<Figure size 1440x360 with 8 Axes>"
            ],
            "image/png": "[encoded data removed]"
          },
          "metadata": {
            "needs_background": "light"
          }
        }
      ]
    },
    {
      "cell_type": "code",
      "source": [
        "\n",
        "\n",
        "# Create subplots with 5 rows and 2 columns\n",
        "fig, axs = plt.subplots(nrows=5, ncols=3, figsize=(18.75, 31.25))\n",
        "\n",
        "# Flatten the axs array to make it easier to iterate over\n",
        "axs = axs.flatten()\n",
        "\n",
        "# Iterate over the columns and plot each one\n",
        "for i, col in enumerate(overdose_deaths.columns[1:]):\n",
        "    axs[i].plot(overdose_deaths['year'], overdose_deaths[col], color='b')\n",
        "    axs[i].set_xlabel('Year')\n",
        "    axs[i].set_ylabel(col)\n",
        "    axs[i].set_title(col)\n",
        "\n",
        "# Remove any unused subplots\n",
        "for j in range(len(overdose_deaths.columns) - 1, len(axs)):\n",
        "    fig.delaxes(axs[j])\n",
        "    \n",
        "# Adjust the spacing between the subplots\n",
        "fig.subplots_adjust(hspace=0.5, wspace=0.3)\n"
      ],
      "metadata": {
        "id": "jS0iS5zPv5DE"
      },
      "execution_count": null,
      "outputs": []
    },
    {
      "cell_type": "code",
      "source": [
        "sns.scatterplot(x=\"total_overdose_deaths\", y=\"heroin\", hue=\"year\", data=overdose_deaths)"
      ],
      "metadata": {
        "colab": {
          "base_uri": "https://localhost:8080/",
          "height": 297
        },
        "id": "hQpkosmC1GgJ",
        "outputId": "302f3e25-de89-4a40-e4c4-bdb4a397a7ad"
      },
      "execution_count": null,
      "outputs": [
        {
          "output_type": "execute_result",
          "data": {
            "text/plain": [
              "<matplotlib.axes._subplots.AxesSubplot at 0x7f1a33a64af0>"
            ]
          },
          "metadata": {},
          "execution_count": 137
        },
        {
          "output_type": "display_data",
          "data": {
            "text/plain": [
              "<Figure size 432x288 with 1 Axes>"
            ],
            "image/png": "[encoded data removed]"
          },
          "metadata": {
            "needs_background": "light"
          }
        }
      ]
    }
  ]
}